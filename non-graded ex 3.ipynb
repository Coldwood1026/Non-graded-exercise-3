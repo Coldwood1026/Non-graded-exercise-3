{
 "cells": [
  {
   "cell_type": "markdown",
   "metadata": {},
   "source": [
    "Create a treasure hunt game where a user has to figure out the location of the treasure on a grid by using just the commands of E, W, N, and S, indicating East, West, North, and South, respectively. \n",
    "\n",
    "REQUIREMENTS:\n",
    "1. Define the size of the grid. It could be any number, but start from 5\n",
    "2. Assign the player a random position on the map. Do the same for the location of the treasure. (HINT: use randint() to generate a random set of coordinates)\n",
    "    2.1. Since it's 2-dimensional grid, the location of both the player and the treasure will be coordinates, like (x,y)\n",
    "3. Decide the maximum moves the player can make and keep track of the number of moves.\n",
    "4. Calculate the initial distance between the player and the treasure location\n",
    "5. Allow player to make as many moves as maximum moves allowed\n",
    "    5.1. Depending on which direction the player moves (N, S, E, or W), recalculate player's position and their distance from the treasure location\n",
    "    5.2. If the move brings player closer to the treasure, let the user know that they are getting closer\n",
    "    5.3. If the move takes player away from the treasure, let the user know that they are moving farther\n",
    "    5.4. If the player makes an illegal move, then let the user know that that move is not allowed. \n",
    "    5.5. If the new player position is the same as the treasure position, let the user know that they have found the treasure\n",
    "    5.6. If the moves made by the player are the same as maximum moves allowed, let the user know that no more moves are possible and that they have lost the game. Also show them where the treasure was located.\n",
    "    5.7. If there are still moves left, then the game should continue and keep asking the user for their moves. \n"
   ]
  },
  {
   "cell_type": "code",
   "execution_count": 1,
   "metadata": {},
   "outputs": [
    {
     "name": "stdout",
     "output_type": "stream",
     "text": [
      "Player position: [4, 0]\n",
      "Treasure position: [0, 1]\n",
      "Initial distance: 5\n",
      "You are getting closer to the treasure!\n",
      "Moves made: 1, Remaining moves: 9\n",
      "You are getting closer to the treasure!\n",
      "Moves made: 2, Remaining moves: 8\n",
      "You are getting closer to the treasure!\n",
      "Moves made: 3, Remaining moves: 7\n",
      "You are getting closer to the treasure!\n",
      "Moves made: 4, Remaining moves: 6\n",
      "Congratulations! You found the treasure!\n"
     ]
    }
   ],
   "source": [
    "import random\n",
    "\n",
    "grid_size = 5\n",
    "\n",
    "player_position = [random.randint(0, grid_size - 1), random.randint(0, grid_size - 1)]\n",
    "treasure_position = [random.randint(0, grid_size - 1), random.randint(0, grid_size - 1)]\n",
    "\n",
    "print(\"Player position:\", player_position)\n",
    "print(\"Treasure position:\", treasure_position)\n",
    "\n",
    "max_moves = 10\n",
    "moves_made = 0\n",
    "\n",
    "initial_distance = abs(player_position[0] - treasure_position[0]) + abs(player_position[1] - treasure_position[1])\n",
    "print(\"Initial distance:\", initial_distance)\n",
    "\n",
    "while moves_made < max_moves:\n",
    "    move = input(\"Enter direction (N, S, E, W): \").upper()\n",
    "    \n",
    "    if move == 'N' and player_position[1] > 0:\n",
    "        player_position[1] -= 1\n",
    "    elif move == 'S' and player_position[1] < grid_size - 1:\n",
    "        player_position[1] += 1\n",
    "    elif move == 'E' and player_position[0] < grid_size - 1:\n",
    "        player_position[0] += 1\n",
    "    elif move == 'W' and player_position[0] > 0:\n",
    "        player_position[0] -= 1\n",
    "    else:\n",
    "        print(\"Invalid move!\")\n",
    "        continue\n",
    "\n",
    "    moves_made += 1\n",
    "    remaining_moves = max_moves - moves_made\n",
    "    current_distance = abs(player_position[0] - treasure_position[0]) + abs(player_position[1] - treasure_position[1])\n",
    "    \n",
    "    if player_position == treasure_position:\n",
    "        print(\"Congratulations! You found the treasure!\")\n",
    "        break\n",
    "\n",
    "    if current_distance < initial_distance:\n",
    "        print(\"You are getting closer to the treasure!\")\n",
    "    else:\n",
    "        print(\"You are moving farther from the treasure!\")\n",
    "    \n",
    "    print(f\"Moves made: {moves_made}, Remaining moves: {remaining_moves}\")\n",
    "    \n",
    "    initial_distance = current_distance\n",
    "\n",
    "if moves_made == max_moves and player_position != treasure_position:\n",
    "    print(\"Out of moves! You lost! The treasure was at:\", treasure_position)\n"
   ]
  }
 ],
 "metadata": {
  "kernelspec": {
   "display_name": "Python 3",
   "language": "python",
   "name": "python3"
  },
  "language_info": {
   "codemirror_mode": {
    "name": "ipython",
    "version": 3
   },
   "file_extension": ".py",
   "mimetype": "text/x-python",
   "name": "python",
   "nbconvert_exporter": "python",
   "pygments_lexer": "ipython3",
   "version": "3.12.5"
  }
 },
 "nbformat": 4,
 "nbformat_minor": 2
}
